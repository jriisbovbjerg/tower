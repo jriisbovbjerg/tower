{
 "cells": [
  {
   "cell_type": "code",
   "execution_count": 1,
   "metadata": {
    "collapsed": true
   },
   "outputs": [],
   "source": [
    "#%matplotlib inline\n",
    "\n",
    "import scipy\n",
    "from scipy import interpolate\n",
    "import numpy as np"
   ]
  },
  {
   "cell_type": "code",
   "execution_count": 2,
   "metadata": {
    "collapsed": true
   },
   "outputs": [],
   "source": [
    "data = ([[-6,-59,70],\n",
    "[-43,41,80],\n",
    "[52,28,87],\n",
    "[8,-51,118],\n",
    "[-36.5,-24.5,139],\n",
    "[-27,38.5,149],\n",
    "[26.5,51,152],\n",
    "[63,6.5,158],\n",
    "[-12,-37,195],\n",
    "[8,48,215],\n",
    "[65,-13,215],\n",
    "[-14,-21,248],\n",
    "[38,29.5,290],\n",
    "[45,-49,310],\n",
    "[-32,-17.5,334],\n",
    "[26,24,379],\n",
    "[26,-56,394],\n",
    "[-38,-12.5,415],\n",
    "[26,-4,461],\n",
    "[-20,-64,485],\n",
    "[-38,11,514],\n",
    "[26.5,-21,552],\n",
    "[-38,-46,566],\n",
    "[-18,21,578],\n",
    "[7.5,-26.5,627],\n",
    "[-52,-7.5,649],\n",
    "[-11,42,656],\n",
    "[13,-9,679],\n",
    "[-38,23,709],\n",
    "[28,34,711],\n",
    "[-2,-16,744],\n",
    "[-29,31,772],\n",
    "[31,37,781],\n",
    "[11,-23,801],\n",
    "[-26,28,836],\n",
    "[41,17,848],\n",
    "[-8,-17.5,867],\n",
    "[-3,29,902],\n",
    "[31,-12,923],\n",
    "[-11,-12,950],\n",
    "[10,21,986]])\n"
   ]
  },
  {
   "cell_type": "code",
   "execution_count": 3,
   "metadata": {
    "collapsed": false
   },
   "outputs": [],
   "source": [
    "t_data = np.transpose(data)"
   ]
  },
  {
   "cell_type": "code",
   "execution_count": 25,
   "metadata": {
    "collapsed": false,
    "scrolled": true
   },
   "outputs": [],
   "source": [
    "\n",
    "spacing = 3000\n",
    "#now we get all the knots and info about the interpolated spline\n",
    "tck, u= interpolate.splprep(t_data)\n",
    "#here we generate the new interpolated dataset, \n",
    "#increase the resolution by increasing the spacing, 500 in this example\n",
    "new = interpolate.splev(np.linspace(0,1,spacing), tck)\n",
    "\n",
    "#now lets plot it!\n",
    "from mpl_toolkits.mplot3d import Axes3D\n",
    "import matplotlib.pyplot as plt\n",
    "fig = plt.figure()\n",
    "ax = Axes3D(fig)\n",
    "ax.plot(t_data[0], t_data[1], t_data[2], marker='o', label='original - points)', lw =0, c='green')\n",
    "ax.plot(new[0], new[1], new[2], label='fit', lw =2, c='red')\n",
    "ax.legend()\n",
    "plt.savefig('original.png')\n",
    "plt.show()"
   ]
  },
  {
   "cell_type": "code",
   "execution_count": 27,
   "metadata": {
    "collapsed": false
   },
   "outputs": [
    {
     "name": "stdout",
     "output_type": "stream",
     "text": [
      "samlet længde:  80.77043173999954 [cm]\n"
     ]
    }
   ],
   "source": [
    "from scipy.spatial import distance\n",
    "a = (new[0][0], new[1][0], new[2][0])\n",
    "b = (new[0][1], new[1][1], new[2][1])\n",
    "dst = distance.euclidean(a,b)\n",
    "dst = dst * spacing / 100\n",
    "print(\"samlet længde: \", dst, \"[cm]\")"
   ]
  },
  {
   "cell_type": "code",
   "execution_count": 11,
   "metadata": {
    "collapsed": true
   },
   "outputs": [],
   "source": [
    "fig = plt.figure()\n",
    "ax = Axes3D(fig)\n",
    "ax.plot(t_data[0] * -1, t_data[1], t_data[2], marker='o', label='points mirrored (x * -1)', lw =0, c='Dodgerblue')\n",
    "ax.plot(new[0] * -1, new[1], new[2], label='fit', lw =2, c='orange')\n",
    "ax.legend()\n",
    "plt.savefig('mirror.png')\n",
    "plt.show()"
   ]
  },
  {
   "cell_type": "code",
   "execution_count": null,
   "metadata": {
    "collapsed": true
   },
   "outputs": [],
   "source": []
  }
 ],
 "metadata": {
  "kernelspec": {
   "display_name": "Python 3",
   "language": "python",
   "name": "python3"
  },
  "language_info": {
   "codemirror_mode": {
    "name": "ipython",
    "version": 3
   },
   "file_extension": ".py",
   "mimetype": "text/x-python",
   "name": "python",
   "nbconvert_exporter": "python",
   "pygments_lexer": "ipython3",
   "version": "3.5.1"
  }
 },
 "nbformat": 4,
 "nbformat_minor": 0
}
